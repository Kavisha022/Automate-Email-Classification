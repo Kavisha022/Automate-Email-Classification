{
 "cells": [
  {
   "cell_type": "code",
   "execution_count": 1,
   "metadata": {},
   "outputs": [
    {
     "name": "stdout",
     "output_type": "stream",
     "text": [
      "Requirement already satisfied: scikit-learn in d:\\onedrive - lowcode minds technology pvt ltd\\desktop\\automate-email-classification\\venv\\lib\\site-packages (1.6.1)\n",
      "Requirement already satisfied: numpy>=1.19.5 in d:\\onedrive - lowcode minds technology pvt ltd\\desktop\\automate-email-classification\\venv\\lib\\site-packages (from scikit-learn) (2.2.4)\n",
      "Requirement already satisfied: scipy>=1.6.0 in d:\\onedrive - lowcode minds technology pvt ltd\\desktop\\automate-email-classification\\venv\\lib\\site-packages (from scikit-learn) (1.15.2)\n",
      "Requirement already satisfied: joblib>=1.2.0 in d:\\onedrive - lowcode minds technology pvt ltd\\desktop\\automate-email-classification\\venv\\lib\\site-packages (from scikit-learn) (1.4.2)\n",
      "Requirement already satisfied: threadpoolctl>=3.1.0 in d:\\onedrive - lowcode minds technology pvt ltd\\desktop\\automate-email-classification\\venv\\lib\\site-packages (from scikit-learn) (3.6.0)\n",
      "Note: you may need to restart the kernel to use updated packages.\n"
     ]
    },
    {
     "name": "stderr",
     "output_type": "stream",
     "text": [
      "\n",
      "[notice] A new release of pip is available: 24.0 -> 25.0.1\n",
      "[notice] To update, run: python.exe -m pip install --upgrade pip\n"
     ]
    }
   ],
   "source": [
    "pip install scikit-learn"
   ]
  },
  {
   "cell_type": "code",
   "execution_count": 2,
   "metadata": {},
   "outputs": [],
   "source": [
    "import pandas as pd\n",
    "import numpy as np\n",
    "import re\n",
    "import string\n",
    "from sklearn.model_selection import train_test_split\n",
    "from sklearn.feature_extraction.text import TfidfVectorizer\n",
    "from sklearn.svm import SVC\n",
    "from sklearn.pipeline import Pipeline\n",
    "from sklearn.metrics import classification_report, accuracy_score"
   ]
  },
  {
   "cell_type": "code",
   "execution_count": 6,
   "metadata": {},
   "outputs": [],
   "source": [
    "# Load dataset\n",
    "df = pd.read_excel(r\"D:\\OneDrive - Lowcode Minds Technology Pvt Ltd\\Desktop\\Automate-Email-Classification\\emails.xlsx\") "
   ]
  },
  {
   "cell_type": "code",
   "execution_count": 7,
   "metadata": {},
   "outputs": [],
   "source": [
    "def preprocess_text(text):\n",
    "    text = text.lower()  # Convert to lowercase\n",
    "    text = re.sub(f\"[{string.punctuation}]\", \"\", text)  # Remove punctuation\n",
    "    text = re.sub(r\"\\d+\", \"\", text)  # Remove numbers\n",
    "    return text"
   ]
  },
  {
   "cell_type": "code",
   "execution_count": 8,
   "metadata": {},
   "outputs": [],
   "source": [
    "# Combine Subject and Body\n",
    "df[\"Text\"] = df[\"Subject\"].fillna(\"\") + \" \" + df[\"Body\"].fillna(\"\")\n",
    "df[\"Text\"] = df[\"Text\"].apply(preprocess_text)\n"
   ]
  },
  {
   "cell_type": "code",
   "execution_count": 9,
   "metadata": {},
   "outputs": [],
   "source": [
    "# Define features and labels\n",
    "X = df[\"Text\"]\n",
    "y = df[\"Category\"]\n"
   ]
  },
  {
   "cell_type": "code",
   "execution_count": 10,
   "metadata": {},
   "outputs": [],
   "source": [
    "# Split data into training and testing sets\n",
    "X_train, X_test, y_train, y_test = train_test_split(X, y, test_size=0.2, random_state=42)"
   ]
  },
  {
   "cell_type": "code",
   "execution_count": 11,
   "metadata": {},
   "outputs": [],
   "source": [
    "# Create a pipeline with TF-IDF and SVM model\n",
    "pipeline = Pipeline([\n",
    "    ('tfidf', TfidfVectorizer(stop_words='english', max_features=5000)),\n",
    "    ('svm', SVC(kernel='linear', probability=True))\n",
    "])\n"
   ]
  },
  {
   "cell_type": "code",
   "execution_count": null,
   "metadata": {},
   "outputs": [
    {
     "name": "stdout",
     "output_type": "stream",
     "text": [
      "Accuracy: 0.75\n",
      "Classification Report:\n",
      "               precision    recall  f1-score   support\n",
      "\n",
      "  Automobile       1.00      0.67      0.80         3\n",
      "    Building       1.00      0.50      0.67         4\n",
      "      Health       0.62      1.00      0.77         5\n",
      "\n",
      "    accuracy                           0.75        12\n",
      "   macro avg       0.88      0.72      0.75        12\n",
      "weighted avg       0.84      0.75      0.74        12\n",
      "\n"
     ]
    }
   ],
   "source": [
    "# Train the model\n",
    "pipeline.fit(X_train, y_train)\n",
    "\n",
    "# Predictions\n",
    "y_pred = pipeline.predict(X_test)\n",
    "\n",
    "# Evaluate the model\n",
    "print(\"Accuracy:\", accuracy_score(y_test, y_pred))\n",
    "print(\"Classification Report:\\n\", classification_report(y_test, y_pred))"
   ]
  },
  {
   "cell_type": "code",
   "execution_count": 12,
   "metadata": {},
   "outputs": [],
   "source": [
    "# List of multiple emails\n",
    "new_emails = [\n",
    "    {\n",
    "        \"Subject\": \"Health insurance claim status update\",\n",
    "        \"Body\": \"Dear customer, your medical claim has been processed. The reimbursement will be credited within 5 working days.\"\n",
    "    },\n",
    "    {\n",
    "        \"Subject\": \"Renew your vehicle insurance today!\",\n",
    "        \"Body\": \"Your car insurance expires soon. Renew now to avoid penalties and continue your coverage.\"\n",
    "    },\n",
    "    {\n",
    "        \"Subject\": \"Home insurance premium reminder\",\n",
    "        \"Body\": \"Your home insurance premium is due next week. Please make the payment to continue coverage.\"\n",
    "    },\n",
    "    {\n",
    "        \"Subject\": \"Need details on medical coverage\",\n",
    "        \"Body\": \"I would like to know if my insurance covers dental procedures and routine check-ups.\"\n",
    "    },\n",
    "    {\n",
    "        \"Subject\": \"Urgent: House fire insurance claim\",\n",
    "        \"Body\": \"My house was damaged due to a fire accident. I need assistance in filing an insurance claim.\"\n",
    "    }\n",
    "]"
   ]
  },
  {
   "cell_type": "code",
   "execution_count": null,
   "metadata": {},
   "outputs": [
    {
     "name": "stdout",
     "output_type": "stream",
     "text": [
      "Subject: Health insurance claim status update\n",
      "Predicted Category: Health\n",
      "\n",
      "Subject: Renew your vehicle insurance today!\n",
      "Predicted Category: Automobile\n",
      "\n",
      "Subject: Home insurance premium reminder\n",
      "Predicted Category: Building\n",
      "\n",
      "Subject: Need details on medical coverage\n",
      "Predicted Category: Health\n",
      "\n",
      "Subject: Urgent: House fire insurance claim\n",
      "Predicted Category: Building\n",
      "\n"
     ]
    }
   ],
   "source": [
    "# Preprocess and predict for each email\n",
    "for email in new_emails:\n",
    "    processed_email = preprocess_text(email[\"Subject\"] + \" \" + email[\"Body\"])\n",
    "    predicted_category = pipeline.predict([processed_email])[0]\n",
    "    print(f\"Subject: {email['Subject']}\\nPredicted Category: {predicted_category}\\n\")"
   ]
  },
  {
   "cell_type": "code",
   "execution_count": null,
   "metadata": {},
   "outputs": [],
   "source": []
  }
 ],
 "metadata": {
  "kernelspec": {
   "display_name": "venv",
   "language": "python",
   "name": "python3"
  },
  "language_info": {
   "codemirror_mode": {
    "name": "ipython",
    "version": 3
   },
   "file_extension": ".py",
   "mimetype": "text/x-python",
   "name": "python",
   "nbconvert_exporter": "python",
   "pygments_lexer": "ipython3",
   "version": "3.12.2"
  }
 },
 "nbformat": 4,
 "nbformat_minor": 2
}
